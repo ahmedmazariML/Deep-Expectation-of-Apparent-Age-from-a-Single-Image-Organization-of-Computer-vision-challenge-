{
 "cells": [
  {
   "cell_type": "code",
   "execution_count": 2,
   "metadata": {
    "collapsed": false
   },
   "outputs": [],
   "source": [
    "require 'image'\n",
    "require 'nn'\n",
    "net = torch.load('./VGG_FACE.t7')\n",
    "net:evaluate()\n"
   ]
  },
  {
   "cell_type": "code",
   "execution_count": 3,
   "metadata": {
    "collapsed": false
   },
   "outputs": [],
   "source": [
    "\n",
    "net.modules[35] = nil \n",
    "net.modules[36] = nil \n",
    "net.modules[37] = nil \n",
    "net.modules[38] = nil \n",
    "net.modules[39] = nil \n",
    "net.modules[40] = nil \n",
    "collectgarbage()\n",
    "net:evaluate()"
   ]
  },
  {
   "cell_type": "code",
   "execution_count": 4,
   "metadata": {
    "collapsed": false
   },
   "outputs": [],
   "source": [
    "csvfile = require \"simplecsv\"\n",
    "input = csvfile.read('../output/cleaned.csv') -- read file csv1.txt to matrix m\n",
    "\n"
   ]
  },
  {
   "cell_type": "code",
   "execution_count": 19,
   "metadata": {
    "collapsed": false
   },
   "outputs": [
    {
     "data": {
      "text/plain": [
       "17/10000217_1981-05-05_2009.jpg\t\n"
      ]
     },
     "execution_count": 19,
     "metadata": {},
     "output_type": "execute_result"
    }
   ],
   "source": []
  },
  {
   "cell_type": "code",
   "execution_count": null,
   "metadata": {
    "collapsed": false
   },
   "outputs": [],
   "source": []
  },
  {
   "cell_type": "code",
   "execution_count": 5,
   "metadata": {
    "collapsed": false
   },
   "outputs": [],
   "source": [
    "function table.shallow_copy(t)\n",
    "  local t2 = {}\n",
    "  \n",
    "  for i=1, 4096 do\n",
    "    t2[#t2 + 1] = t[i]\n",
    "  end\n",
    "  return t2\n",
    "end\n",
    "\n",
    "\n",
    "output=nil\n",
    "output={}\n",
    "path=\"/home/nawel/Downloads/wiki/wiki_crop/\"\n",
    "\n",
    "for i=2,10000 do \n",
    "    im=nil\n",
    "    im_scaled=nil\n",
    "    im_bgr=nil\n",
    "    features=nil\n",
    "    \n",
    "    im=image.load(path .. input[i][2],3,'float')\n",
    "\n",
    "    im_scaled = image.scale(im,\"224x224\")\n",
    "    im_scaled = im_scaled*255\n",
    "\n",
    "    mean = {129.1863,104.7624,93.5940}\n",
    "    im_bgr = im_scaled:index(1,torch.LongTensor{3,2,1})\n",
    "    for h=1,3 do im_bgr[h]:add(-mean[h]) end\n",
    "    features=net(im_bgr)\n",
    "\n",
    "    --table.insert(output, features )--output[i-1]=net(im_bgr)\n",
    "    output[#output + 1] = table.shallow_copy(features)\n",
    "    --print(#output, output, features[1], features[545])\n",
    "end"
   ]
  },
  {
   "cell_type": "code",
   "execution_count": null,
   "metadata": {
    "collapsed": false
   },
   "outputs": [],
   "source": []
  },
  {
   "cell_type": "code",
   "execution_count": 7,
   "metadata": {
    "collapsed": false
   },
   "outputs": [
    {
     "data": {
      "text/plain": [
       "9999\t\n"
      ]
     },
     "execution_count": 7,
     "metadata": {},
     "output_type": "execute_result"
    }
   ],
   "source": [
    "#output"
   ]
  },
  {
   "cell_type": "code",
   "execution_count": 6,
   "metadata": {
    "collapsed": false
   },
   "outputs": [
    {
     "data": {
      "text/plain": [
       "\n"
      ]
     },
     "execution_count": 6,
     "metadata": {},
     "output_type": "execute_result"
    }
   ],
   "source": [
    "csvfile.write('./output.csv', output)"
   ]
  },
  {
   "cell_type": "code",
   "execution_count": null,
   "metadata": {
    "collapsed": true
   },
   "outputs": [],
   "source": []
  },
  {
   "cell_type": "code",
   "execution_count": null,
   "metadata": {
    "collapsed": false
   },
   "outputs": [],
   "source": []
  },
  {
   "cell_type": "code",
   "execution_count": null,
   "metadata": {
    "collapsed": false
   },
   "outputs": [],
   "source": []
  },
  {
   "cell_type": "code",
   "execution_count": null,
   "metadata": {
    "collapsed": false
   },
   "outputs": [],
   "source": [
    "\n"
   ]
  },
  {
   "cell_type": "code",
   "execution_count": null,
   "metadata": {
    "collapsed": false
   },
   "outputs": [],
   "source": []
  },
  {
   "cell_type": "code",
   "execution_count": null,
   "metadata": {
    "collapsed": true
   },
   "outputs": [],
   "source": []
  },
  {
   "cell_type": "code",
   "execution_count": null,
   "metadata": {
    "collapsed": false
   },
   "outputs": [],
   "source": []
  }
 ],
 "metadata": {
  "kernelspec": {
   "display_name": "iTorch",
   "language": "lua",
   "name": "itorch"
  },
  "language_info": {
   "name": "lua",
   "version": "5.2"
  }
 },
 "nbformat": 4,
 "nbformat_minor": 1
}
